{
  "nbformat": 4,
  "nbformat_minor": 0,
  "metadata": {
    "colab": {
      "name": "Decision Tree ",
      "provenance": [],
      "collapsed_sections": []
    },
    "kernelspec": {
      "name": "python3",
      "display_name": "Python 3"
    }
  },
  "cells": [
    {
      "cell_type": "code",
      "metadata": {
        "colab": {
          "base_uri": "https://localhost:8080/"
        },
        "id": "iq_90Ia7B9Nq",
        "outputId": "0fc6073e-dc44-4d42-befa-cde5fccae8ed"
      },
      "source": [
        "import pandas as pd\n",
        "\n",
        "#dataframe\n",
        "data = pd.read_csv('tic-tac-toe.csv')\n",
        "\n",
        "print(data.columns)"
      ],
      "execution_count": null,
      "outputs": [
        {
          "output_type": "stream",
          "text": [
            "Index(['top-left-square', 'top-middle-square', 'top-right-square',\n",
            "       'middle-left-square', 'middle-middle-square', 'middle-right-square',\n",
            "       'bottom-left-square', 'bottom-middle-square', 'bottom-right-square',\n",
            "       'Class'],\n",
            "      dtype='object')\n"
          ],
          "name": "stdout"
        }
      ]
    },
    {
      "cell_type": "code",
      "metadata": {
        "colab": {
          "base_uri": "https://localhost:8080/",
          "height": 433
        },
        "id": "KVh0asrWC0Cs",
        "outputId": "1a0ff66b-dd58-4d44-9a6b-ea7f93fb1b45"
      },
      "source": [
        "data"
      ],
      "execution_count": null,
      "outputs": [
        {
          "output_type": "execute_result",
          "data": {
            "text/html": [
              "<div>\n",
              "<style scoped>\n",
              "    .dataframe tbody tr th:only-of-type {\n",
              "        vertical-align: middle;\n",
              "    }\n",
              "\n",
              "    .dataframe tbody tr th {\n",
              "        vertical-align: top;\n",
              "    }\n",
              "\n",
              "    .dataframe thead th {\n",
              "        text-align: right;\n",
              "    }\n",
              "</style>\n",
              "<table border=\"1\" class=\"dataframe\">\n",
              "  <thead>\n",
              "    <tr style=\"text-align: right;\">\n",
              "      <th></th>\n",
              "      <th>top-left-square</th>\n",
              "      <th>top-middle-square</th>\n",
              "      <th>top-right-square</th>\n",
              "      <th>middle-left-square</th>\n",
              "      <th>middle-middle-square</th>\n",
              "      <th>middle-right-square</th>\n",
              "      <th>bottom-left-square</th>\n",
              "      <th>bottom-middle-square</th>\n",
              "      <th>bottom-right-square</th>\n",
              "      <th>Class</th>\n",
              "    </tr>\n",
              "  </thead>\n",
              "  <tbody>\n",
              "    <tr>\n",
              "      <th>0</th>\n",
              "      <td>x</td>\n",
              "      <td>x</td>\n",
              "      <td>x</td>\n",
              "      <td>x</td>\n",
              "      <td>o</td>\n",
              "      <td>o</td>\n",
              "      <td>x</td>\n",
              "      <td>o</td>\n",
              "      <td>o</td>\n",
              "      <td>positive</td>\n",
              "    </tr>\n",
              "    <tr>\n",
              "      <th>1</th>\n",
              "      <td>x</td>\n",
              "      <td>x</td>\n",
              "      <td>x</td>\n",
              "      <td>x</td>\n",
              "      <td>o</td>\n",
              "      <td>o</td>\n",
              "      <td>o</td>\n",
              "      <td>x</td>\n",
              "      <td>o</td>\n",
              "      <td>positive</td>\n",
              "    </tr>\n",
              "    <tr>\n",
              "      <th>2</th>\n",
              "      <td>x</td>\n",
              "      <td>x</td>\n",
              "      <td>x</td>\n",
              "      <td>x</td>\n",
              "      <td>o</td>\n",
              "      <td>o</td>\n",
              "      <td>o</td>\n",
              "      <td>o</td>\n",
              "      <td>x</td>\n",
              "      <td>positive</td>\n",
              "    </tr>\n",
              "    <tr>\n",
              "      <th>3</th>\n",
              "      <td>x</td>\n",
              "      <td>x</td>\n",
              "      <td>x</td>\n",
              "      <td>x</td>\n",
              "      <td>o</td>\n",
              "      <td>o</td>\n",
              "      <td>o</td>\n",
              "      <td>b</td>\n",
              "      <td>b</td>\n",
              "      <td>positive</td>\n",
              "    </tr>\n",
              "    <tr>\n",
              "      <th>4</th>\n",
              "      <td>x</td>\n",
              "      <td>x</td>\n",
              "      <td>x</td>\n",
              "      <td>x</td>\n",
              "      <td>o</td>\n",
              "      <td>o</td>\n",
              "      <td>b</td>\n",
              "      <td>o</td>\n",
              "      <td>b</td>\n",
              "      <td>positive</td>\n",
              "    </tr>\n",
              "    <tr>\n",
              "      <th>...</th>\n",
              "      <td>...</td>\n",
              "      <td>...</td>\n",
              "      <td>...</td>\n",
              "      <td>...</td>\n",
              "      <td>...</td>\n",
              "      <td>...</td>\n",
              "      <td>...</td>\n",
              "      <td>...</td>\n",
              "      <td>...</td>\n",
              "      <td>...</td>\n",
              "    </tr>\n",
              "    <tr>\n",
              "      <th>953</th>\n",
              "      <td>o</td>\n",
              "      <td>x</td>\n",
              "      <td>x</td>\n",
              "      <td>x</td>\n",
              "      <td>o</td>\n",
              "      <td>o</td>\n",
              "      <td>o</td>\n",
              "      <td>x</td>\n",
              "      <td>x</td>\n",
              "      <td>negative</td>\n",
              "    </tr>\n",
              "    <tr>\n",
              "      <th>954</th>\n",
              "      <td>o</td>\n",
              "      <td>x</td>\n",
              "      <td>o</td>\n",
              "      <td>x</td>\n",
              "      <td>x</td>\n",
              "      <td>o</td>\n",
              "      <td>x</td>\n",
              "      <td>o</td>\n",
              "      <td>x</td>\n",
              "      <td>negative</td>\n",
              "    </tr>\n",
              "    <tr>\n",
              "      <th>955</th>\n",
              "      <td>o</td>\n",
              "      <td>x</td>\n",
              "      <td>o</td>\n",
              "      <td>x</td>\n",
              "      <td>o</td>\n",
              "      <td>x</td>\n",
              "      <td>x</td>\n",
              "      <td>o</td>\n",
              "      <td>x</td>\n",
              "      <td>negative</td>\n",
              "    </tr>\n",
              "    <tr>\n",
              "      <th>956</th>\n",
              "      <td>o</td>\n",
              "      <td>x</td>\n",
              "      <td>o</td>\n",
              "      <td>o</td>\n",
              "      <td>x</td>\n",
              "      <td>x</td>\n",
              "      <td>x</td>\n",
              "      <td>o</td>\n",
              "      <td>x</td>\n",
              "      <td>negative</td>\n",
              "    </tr>\n",
              "    <tr>\n",
              "      <th>957</th>\n",
              "      <td>o</td>\n",
              "      <td>o</td>\n",
              "      <td>x</td>\n",
              "      <td>x</td>\n",
              "      <td>x</td>\n",
              "      <td>o</td>\n",
              "      <td>o</td>\n",
              "      <td>x</td>\n",
              "      <td>x</td>\n",
              "      <td>negative</td>\n",
              "    </tr>\n",
              "  </tbody>\n",
              "</table>\n",
              "<p>958 rows × 10 columns</p>\n",
              "</div>"
            ],
            "text/plain": [
              "    top-left-square top-middle-square  ... bottom-right-square     Class\n",
              "0                 x                 x  ...                   o  positive\n",
              "1                 x                 x  ...                   o  positive\n",
              "2                 x                 x  ...                   x  positive\n",
              "3                 x                 x  ...                   b  positive\n",
              "4                 x                 x  ...                   b  positive\n",
              "..              ...               ...  ...                 ...       ...\n",
              "953               o                 x  ...                   x  negative\n",
              "954               o                 x  ...                   x  negative\n",
              "955               o                 x  ...                   x  negative\n",
              "956               o                 x  ...                   x  negative\n",
              "957               o                 o  ...                   x  negative\n",
              "\n",
              "[958 rows x 10 columns]"
            ]
          },
          "metadata": {
            "tags": []
          },
          "execution_count": 2
        }
      ]
    },
    {
      "cell_type": "code",
      "metadata": {
        "colab": {
          "base_uri": "https://localhost:8080/"
        },
        "id": "NOvINEsqOkoi",
        "outputId": "800c9961-e84b-42b4-99a6-99f94097f49f"
      },
      "source": [
        "labels = data['Class']\n",
        "if 'positive' in labels:\n",
        "  print(\"Yes\")\n",
        "else:\n",
        "  print(\"No\")"
      ],
      "execution_count": null,
      "outputs": [
        {
          "output_type": "stream",
          "text": [
            "No\n"
          ],
          "name": "stdout"
        }
      ]
    },
    {
      "cell_type": "code",
      "metadata": {
        "id": "y7RY_DUnP2YC"
      },
      "source": [
        "X = []\n",
        "for i in data:\n",
        "  X.append(data.groupby([i, 'Class'], as_index=False)['Class'].count())"
      ],
      "execution_count": null,
      "outputs": []
    },
    {
      "cell_type": "code",
      "metadata": {
        "colab": {
          "base_uri": "https://localhost:8080/"
        },
        "id": "Cj6H5THLRu5o",
        "outputId": "68fe0775-7878-4896-89b8-9fc4fe411ae6"
      },
      "source": [
        "X"
      ],
      "execution_count": null,
      "outputs": [
        {
          "output_type": "execute_result",
          "data": {
            "text/plain": [
              "[  top-left-square  Class\n",
              " 0               b     63\n",
              " 1               b    142\n",
              " 2               o    146\n",
              " 3               o    189\n",
              " 4               x    123\n",
              " 5               x    295,   top-middle-square  Class\n",
              " 0                 b     78\n",
              " 1                 b    172\n",
              " 2                 o    101\n",
              " 3                 o    229\n",
              " 4                 x    153\n",
              " 5                 x    225,   top-right-square  Class\n",
              " 0                b     63\n",
              " 1                b    142\n",
              " 2                o    146\n",
              " 3                o    189\n",
              " 4                x    123\n",
              " 5                x    295,   middle-left-square  Class\n",
              " 0                  b     78\n",
              " 1                  b    172\n",
              " 2                  o    101\n",
              " 3                  o    229\n",
              " 4                  x    153\n",
              " 5                  x    225,   middle-middle-square  Class\n",
              " 0                    b     48\n",
              " 1                    b    112\n",
              " 2                    o    192\n",
              " 3                    o    148\n",
              " 4                    x     92\n",
              " 5                    x    366,   middle-right-square  Class\n",
              " 0                   b     78\n",
              " 1                   b    172\n",
              " 2                   o    101\n",
              " 3                   o    229\n",
              " 4                   x    153\n",
              " 5                   x    225,   bottom-left-square  Class\n",
              " 0                  b     63\n",
              " 1                  b    142\n",
              " 2                  o    146\n",
              " 3                  o    189\n",
              " 4                  x    123\n",
              " 5                  x    295,   bottom-middle-square  Class\n",
              " 0                    b     78\n",
              " 1                    b    172\n",
              " 2                    o    101\n",
              " 3                    o    229\n",
              " 4                    x    153\n",
              " 5                    x    225,   bottom-right-square  Class\n",
              " 0                   b     63\n",
              " 1                   b    142\n",
              " 2                   o    146\n",
              " 3                   o    189\n",
              " 4                   x    123\n",
              " 5                   x    295,    Class\n",
              " 0    332\n",
              " 1    626]"
            ]
          },
          "metadata": {
            "tags": []
          },
          "execution_count": 10
        }
      ]
    },
    {
      "cell_type": "code",
      "metadata": {
        "id": "UotLNjzoQYyk"
      },
      "source": [
        "Y = []\n",
        "for i in data:\n",
        "  Y.append(data.groupby([i, i], as_index=False)[i].count())"
      ],
      "execution_count": null,
      "outputs": []
    },
    {
      "cell_type": "code",
      "metadata": {
        "colab": {
          "base_uri": "https://localhost:8080/"
        },
        "id": "_tpVN5RfO_Fe",
        "outputId": "e1b3d567-2de4-4df2-a95c-c3ce7c6a105a"
      },
      "source": [
        "Y"
      ],
      "execution_count": null,
      "outputs": [
        {
          "output_type": "execute_result",
          "data": {
            "text/plain": [
              "[   top-left-square\n",
              " 0              205\n",
              " 1              335\n",
              " 2              418,    top-middle-square\n",
              " 0                250\n",
              " 1                330\n",
              " 2                378,    top-right-square\n",
              " 0               205\n",
              " 1               335\n",
              " 2               418,    middle-left-square\n",
              " 0                 250\n",
              " 1                 330\n",
              " 2                 378,    middle-middle-square\n",
              " 0                   160\n",
              " 1                   340\n",
              " 2                   458,    middle-right-square\n",
              " 0                  250\n",
              " 1                  330\n",
              " 2                  378,    bottom-left-square\n",
              " 0                 205\n",
              " 1                 335\n",
              " 2                 418,    bottom-middle-square\n",
              " 0                   250\n",
              " 1                   330\n",
              " 2                   378,    bottom-right-square\n",
              " 0                  205\n",
              " 1                  335\n",
              " 2                  418,    Class\n",
              " 0    332\n",
              " 1    626]"
            ]
          },
          "metadata": {
            "tags": []
          },
          "execution_count": 35
        }
      ]
    },
    {
      "cell_type": "code",
      "metadata": {
        "colab": {
          "base_uri": "https://localhost:8080/"
        },
        "id": "7YkXhT0EUmcD",
        "outputId": "da5efc58-096a-434d-eab1-df39333713cd"
      },
      "source": [
        "X[1]['Class']\n",
        "t = len(X)\n",
        "for i in range(len(X)-1):\n",
        "  for j in X[i]['Class']:\n",
        "    for i in range(2):\n",
        "      \n"
      ],
      "execution_count": null,
      "outputs": [
        {
          "output_type": "stream",
          "text": [
            "0\n",
            "1\n",
            "2\n",
            "3\n",
            "4\n",
            "5\n",
            "6\n",
            "7\n",
            "8\n"
          ],
          "name": "stdout"
        }
      ]
    },
    {
      "cell_type": "code",
      "metadata": {
        "id": "5Jqm083GZ0XZ"
      },
      "source": [
        "temp = -1\n",
        "flag = -1\n",
        "flag1 = 0\n",
        "for i in data:\n",
        "  temp = temp + 1\n",
        "  flag1 = 0\n",
        "  if i != 'Class':\n",
        "    for j in X[temp]['Class']:\n",
        "      flag = flag + 1\n",
        "      if flag == 2:\n",
        "        flag1 = flag1 + 1\n",
        "        flag = -1\n",
        "      X[temp]['Class'] = X[temp]['Class']/Y[temp][i][flag1]"
      ],
      "execution_count": null,
      "outputs": []
    },
    {
      "cell_type": "code",
      "metadata": {
        "colab": {
          "base_uri": "https://localhost:8080/"
        },
        "id": "5GQqAGN6pphX",
        "outputId": "47fb80ba-4388-4349-9fbe-36db35c754d1"
      },
      "source": [
        "X"
      ],
      "execution_count": null,
      "outputs": [
        {
          "output_type": "execute_result",
          "data": {
            "text/plain": [
              "[  top-left-square         Class\n",
              " 0               b  7.164405e-54\n",
              " 1               b  1.614834e-53\n",
              " 2               o  1.660323e-53\n",
              " 3               o  2.149322e-53\n",
              " 4               x  1.398765e-53\n",
              " 5               x  3.354761e-53,   top-middle-square         Class\n",
              " 0                 b  5.904315e-24\n",
              " 1                 b  1.301977e-23\n",
              " 2                 o  7.645330e-24\n",
              " 3                 o  1.733446e-23\n",
              " 4                 x  1.158154e-23\n",
              " 5                 x  1.703168e-23,   top-right-square         Class\n",
              " 0                b  9.539423e-14\n",
              " 1                b  2.150156e-13\n",
              " 2                o  2.210724e-13\n",
              " 3                o  2.861827e-13\n",
              " 4                x  1.862459e-13\n",
              " 5                x  4.466873e-13,   middle-left-square         Class\n",
              " 0                  b  9.187153e-14\n",
              " 1                  b  2.025885e-13\n",
              " 2                  o  1.189619e-13\n",
              " 3                  o  2.697254e-13\n",
              " 4                  x  1.802095e-13\n",
              " 5                  x  2.650140e-13,   middle-middle-square         Class\n",
              " 0                    b  1.041595e-13\n",
              " 1                    b  2.430389e-13\n",
              " 2                    o  4.166382e-13\n",
              " 3                    o  3.211586e-13\n",
              " 4                    x  1.996391e-13\n",
              " 5                    x  7.942165e-13,   middle-right-square         Class\n",
              " 0                   b  9.187153e-14\n",
              " 1                   b  2.025885e-13\n",
              " 2                   o  1.189619e-13\n",
              " 3                   o  2.697254e-13\n",
              " 4                   x  1.802095e-13\n",
              " 5                   x  2.650140e-13,   bottom-left-square         Class\n",
              " 0                  b  9.539423e-14\n",
              " 1                  b  2.150156e-13\n",
              " 2                  o  2.210724e-13\n",
              " 3                  o  2.861827e-13\n",
              " 4                  x  1.862459e-13\n",
              " 5                  x  4.466873e-13,   bottom-middle-square         Class\n",
              " 0                    b  9.187153e-14\n",
              " 1                    b  2.025885e-13\n",
              " 2                    o  1.189619e-13\n",
              " 3                    o  2.697254e-13\n",
              " 4                    x  1.802095e-13\n",
              " 5                    x  2.650140e-13,   bottom-right-square         Class\n",
              " 0                   b  9.539423e-14\n",
              " 1                   b  2.150156e-13\n",
              " 2                   o  2.210724e-13\n",
              " 3                   o  2.861827e-13\n",
              " 4                   x  1.862459e-13\n",
              " 5                   x  4.466873e-13,    Class\n",
              " 0    332\n",
              " 1    626]"
            ]
          },
          "metadata": {
            "tags": []
          },
          "execution_count": 52
        }
      ]
    },
    {
      "cell_type": "code",
      "metadata": {
        "id": "CEoMbcZcaBeS"
      },
      "source": [
        "f = -0.5*math.log(0.5,2)-(1-0.5)*math.log(1-0.5,2)"
      ],
      "execution_count": null,
      "outputs": []
    },
    {
      "cell_type": "code",
      "metadata": {
        "colab": {
          "base_uri": "https://localhost:8080/"
        },
        "id": "onSJ6_OFsQbS",
        "outputId": "4d307062-33e0-47b7-a8e8-fde8f3d13738"
      },
      "source": [
        "for i in X[0]['Class']:\n",
        "  print(i)"
      ],
      "execution_count": null,
      "outputs": [
        {
          "output_type": "stream",
          "text": [
            "7.164405314351081e-54\n",
            "1.6148342137108783e-53\n",
            "1.6603225014210447e-53\n",
            "2.1493215943053247e-53\n",
            "1.3987648470875925e-53\n",
            "3.354761218624713e-53\n"
          ],
          "name": "stdout"
        }
      ]
    },
    {
      "cell_type": "code",
      "metadata": {
        "colab": {
          "base_uri": "https://localhost:8080/"
        },
        "id": "THkpDi9erlYi",
        "outputId": "dac84567-9de3-40b8-9470-c37c96e7161b"
      },
      "source": [
        "f = -1\n",
        "for i in range(len(X)-1):\n",
        "  f = -1\n",
        "  for j in X[i]['Class']:\n",
        "    f = f + 1\n",
        "    X[i]['Class'][f] =  -j*math.log(j,2)-(1-j)*math.log(1-j,2)"
      ],
      "execution_count": null,
      "outputs": [
        {
          "output_type": "stream",
          "text": [
            "/usr/local/lib/python3.7/dist-packages/ipykernel_launcher.py:6: SettingWithCopyWarning: \n",
            "A value is trying to be set on a copy of a slice from a DataFrame\n",
            "\n",
            "See the caveats in the documentation: https://pandas.pydata.org/pandas-docs/stable/user_guide/indexing.html#returning-a-view-versus-a-copy\n",
            "  \n"
          ],
          "name": "stderr"
        }
      ]
    },
    {
      "cell_type": "code",
      "metadata": {
        "colab": {
          "base_uri": "https://localhost:8080/"
        },
        "id": "0LZ-YwrvtSXk",
        "outputId": "3c5aad71-ebd1-4cf0-ead1-574b35f82b80"
      },
      "source": [
        "X"
      ],
      "execution_count": null,
      "outputs": [
        {
          "output_type": "execute_result",
          "data": {
            "text/plain": [
              "[  top-left-square         Class\n",
              " 0               b  2.138563e-49\n",
              " 1               b  4.755309e-49\n",
              " 2               o  4.886987e-49\n",
              " 3               o  6.298978e-49\n",
              " 4               x  4.128950e-49\n",
              " 5               x  9.758390e-49,   top-middle-square         Class\n",
              " 0                 b  4.556035e-22\n",
              " 1                 b  9.898104e-22\n",
              " 2                 o  5.870979e-22\n",
              " 3                 o  1.310671e-21\n",
              " 4                 x  8.824267e-22\n",
              " 5                 x  1.288210e-21,   top-right-square         Class\n",
              " 0                b  4.263683e-12\n",
              " 1                b  9.358241e-12\n",
              " 2                o  9.612904e-12\n",
              " 3                o  1.233762e-11\n",
              " 4                x  8.144707e-12\n",
              " 5                x  1.897007e-11,   middle-left-square         Class\n",
              " 0                  b  4.111337e-12\n",
              " 1                  b  8.834764e-12\n",
              " 2                  o  5.279279e-12\n",
              " 3                  o  1.165106e-11\n",
              " 4                  x  7.889199e-12\n",
              " 5                  x  1.145435e-11,   middle-middle-square         Class\n",
              " 0                    b  4.642253e-12\n",
              " 1                    b  1.053489e-11\n",
              " 2                    o  1.773590e-11\n",
              " 3                    o  1.379203e-11\n",
              " 4                    x  8.710297e-12\n",
              " 5                    x  3.306982e-11,   middle-right-square         Class\n",
              " 0                   b  4.111337e-12\n",
              " 1                   b  8.834764e-12\n",
              " 2                   o  5.279279e-12\n",
              " 3                   o  1.165106e-11\n",
              " 4                   x  7.889199e-12\n",
              " 5                   x  1.145435e-11,   bottom-left-square         Class\n",
              " 0                  b  4.263683e-12\n",
              " 1                  b  9.358241e-12\n",
              " 2                  o  9.612904e-12\n",
              " 3                  o  1.233762e-11\n",
              " 4                  x  8.144707e-12\n",
              " 5                  x  1.897007e-11,   bottom-middle-square         Class\n",
              " 0                    b  4.111337e-12\n",
              " 1                    b  8.834764e-12\n",
              " 2                    o  5.279279e-12\n",
              " 3                    o  1.165106e-11\n",
              " 4                    x  7.889199e-12\n",
              " 5                    x  1.145435e-11,   bottom-right-square         Class\n",
              " 0                   b  4.263683e-12\n",
              " 1                   b  9.358241e-12\n",
              " 2                   o  9.612904e-12\n",
              " 3                   o  1.233762e-11\n",
              " 4                   x  8.144707e-12\n",
              " 5                   x  1.897007e-11,    Class\n",
              " 0    332\n",
              " 1    626]"
            ]
          },
          "metadata": {
            "tags": []
          },
          "execution_count": 65
        }
      ]
    },
    {
      "cell_type": "code",
      "metadata": {
        "colab": {
          "base_uri": "https://localhost:8080/"
        },
        "id": "kFKti10lWe1u",
        "outputId": "9f06f0ce-29da-4c2f-d5a7-bce08175887d"
      },
      "source": [
        "for i in Y[0]['top-left-square']:\n",
        "  print(i)"
      ],
      "execution_count": null,
      "outputs": [
        {
          "output_type": "stream",
          "text": [
            "205\n",
            "335\n",
            "418\n"
          ],
          "name": "stdout"
        }
      ]
    },
    {
      "cell_type": "code",
      "metadata": {
        "colab": {
          "base_uri": "https://localhost:8080/"
        },
        "id": "mRphnuPxSCh4",
        "outputId": "36d8dc10-165e-4e53-cca5-7ae1608cb17a"
      },
      "source": [
        "Y[0]['top-left-square'][0]"
      ],
      "execution_count": null,
      "outputs": [
        {
          "output_type": "execute_result",
          "data": {
            "text/plain": [
              "205"
            ]
          },
          "metadata": {
            "tags": []
          },
          "execution_count": 14
        }
      ]
    },
    {
      "cell_type": "code",
      "metadata": {
        "colab": {
          "base_uri": "https://localhost:8080/",
          "height": 141
        },
        "id": "SgPx6ohYwc96",
        "outputId": "f2a2a18d-577e-4c06-c347-53ef720fb3a9"
      },
      "source": [
        "Y[0]"
      ],
      "execution_count": null,
      "outputs": [
        {
          "output_type": "execute_result",
          "data": {
            "text/html": [
              "<div>\n",
              "<style scoped>\n",
              "    .dataframe tbody tr th:only-of-type {\n",
              "        vertical-align: middle;\n",
              "    }\n",
              "\n",
              "    .dataframe tbody tr th {\n",
              "        vertical-align: top;\n",
              "    }\n",
              "\n",
              "    .dataframe thead th {\n",
              "        text-align: right;\n",
              "    }\n",
              "</style>\n",
              "<table border=\"1\" class=\"dataframe\">\n",
              "  <thead>\n",
              "    <tr style=\"text-align: right;\">\n",
              "      <th></th>\n",
              "      <th>top-left-square</th>\n",
              "    </tr>\n",
              "  </thead>\n",
              "  <tbody>\n",
              "    <tr>\n",
              "      <th>0</th>\n",
              "      <td>205</td>\n",
              "    </tr>\n",
              "    <tr>\n",
              "      <th>1</th>\n",
              "      <td>335</td>\n",
              "    </tr>\n",
              "    <tr>\n",
              "      <th>2</th>\n",
              "      <td>418</td>\n",
              "    </tr>\n",
              "  </tbody>\n",
              "</table>\n",
              "</div>"
            ],
            "text/plain": [
              "   top-left-square\n",
              "0              205\n",
              "1              335\n",
              "2              418"
            ]
          },
          "metadata": {
            "tags": []
          },
          "execution_count": 67
        }
      ]
    },
    {
      "cell_type": "code",
      "metadata": {
        "colab": {
          "base_uri": "https://localhost:8080/"
        },
        "id": "xNkYLDdHZsw0",
        "outputId": "92459e27-c656-4ea8-ff67-1a02781049ac"
      },
      "source": [
        "for i in data:\n",
        "  print(i)"
      ],
      "execution_count": null,
      "outputs": [
        {
          "output_type": "stream",
          "text": [
            "top-left-square\n",
            "top-middle-square\n",
            "top-right-square\n",
            "middle-left-square\n",
            "middle-middle-square\n",
            "middle-right-square\n",
            "bottom-left-square\n",
            "bottom-middle-square\n",
            "bottom-right-square\n",
            "Class\n"
          ],
          "name": "stdout"
        }
      ]
    },
    {
      "cell_type": "code",
      "metadata": {
        "id": "e415cAP334XN"
      },
      "source": [
        "import numpy as np\n",
        "import math\n",
        "import random\n",
        "\n",
        "class Node:\n",
        "    def __init__(self, attribute=None, attribute_values=None, child_nodes=None, decision=None):\n",
        "        self.attribute = attribute\n",
        "        self.attribute_values = attribute_values\n",
        "        self.child_nodes = child_nodes\n",
        "        self.decision = decision\n",
        "\n",
        "\n",
        "class DecisionTree:\n",
        "\n",
        "    root = None\n",
        "\n",
        "    @staticmethod\n",
        "    def plurality_values(data):\n",
        "        labels = data[:, data.shape[1] - 1]  # store the last column in labels\n",
        "        count1 = 0\n",
        "        count2 = 0\n",
        "        for label in labels:\n",
        "          if label == 'positive':\n",
        "            count1 = count1 + 1\n",
        "          else:\n",
        "            count2 = count2 + 1\n",
        "        if count1 > count2:\n",
        "          return 'positive'\n",
        "        else:\n",
        "          return 'negative'\n",
        "\n",
        "    @staticmethod\n",
        "    def all_zero(data):\n",
        "        labels = data[:, data.shape[1] - 1]  # store the last column in labels\n",
        "        count1 = 0\n",
        "        count2 = 0\n",
        "        for label in labels:\n",
        "          count2 = count2 + 1\n",
        "          if 'negative' == label:\n",
        "            count1 = count1 + 1\n",
        "        if count1 == count2:\n",
        "          return True\n",
        "        else:\n",
        "          return False\n",
        "\n",
        "    @staticmethod\n",
        "    def all_one(data):\n",
        "        labels = data[:, data.shape[1] - 1]  # store the last column in labels\n",
        "        count1 = 0\n",
        "        count2 = 0\n",
        "        for label in labels:\n",
        "          count2 = count2 + 1\n",
        "          if 'positive' == label:\n",
        "            count1 = count1 + 1\n",
        "        if count1 == count2:\n",
        "          return True\n",
        "        else:\n",
        "          return False\n",
        "\n",
        "\n",
        "    @staticmethod\n",
        "    def importance(data, attributes):\n",
        "        labels = data[:, data.shape[1] - 1]  # store the last column in labels\n",
        "        count1 = 0\n",
        "        count2 = 0\n",
        "        for label in labels:\n",
        "          if label == 'positive':\n",
        "            count1 = count1 + 1\n",
        "          else:\n",
        "            count2 = count2 + 1\n",
        "        \n",
        "        entropy_yes = -count1*math.log(count1,2)-(1-count1)*math.log(1-count1,2)\n",
        "        entropy_no = -count2*math.log(count2,2)-(1-count2)*math.log(1-count2,2)\n",
        "\n",
        "        for attribute in attributes:\n",
        "          X = []\n",
        "          Y = []\n",
        "          X.append(data.groupby([attribute, 'Class'], as_index=False)['Class'].count())\n",
        "          Y.append(data.groupby([attribute, attribute], as_index=False)[attribute].count())\n",
        "        temp = -1\n",
        "        flag = -1\n",
        "        flag1 = 0\n",
        "        for i in attributes:\n",
        "          temp = temp + 1\n",
        "          flag1 = 0\n",
        "          if i != 'Class':\n",
        "            for j in X[temp]['Class']:\n",
        "              flag = flag + 1\n",
        "              if flag == 2:\n",
        "                flag1 = flag1 + 1\n",
        "                flag = -1\n",
        "                X[temp]['Class'] = X[temp]['Class']/Y[temp][i][flag1]\n",
        "        \n",
        "        for i in range(len(X)-1):\n",
        "          f = -1\n",
        "          for j in X[i]['Class']:\n",
        "            f = f + 1\n",
        "            X[i]['Class'][f] =  -j*math.log(j,2)-(1-j)*math.log(1-j,2)\n",
        "        \n",
        "        for i in range(len(Y)):\n",
        "          for j in Y[i]:\n",
        "            Y[i] = entropy_yes - (Y[i]/(Y[0]+Y[1]+Y[2]) * (X[i]['Class'][j])\n",
        "\n",
        "        max_info = -1\n",
        "\n",
        "        for i in range(len(Y)):\n",
        "          for j in Y[i]:\n",
        "            if max_info < j:\n",
        "              max_info = j\n",
        "              attribute1 = Y[i][j]\n",
        "\n",
        "        return attribute1\n",
        "\n",
        "\n",
        "    def train(self, data, attributes, parent_data):\n",
        "        data = np.array(data)\n",
        "        parent_data = np.array(parent_data)\n",
        "        attributes = list(attributes)\n",
        "\n",
        "        if data.shape[0] == 0:  # if x is empty\n",
        "            return Node(decision=self.plurality_values(parent_data))\n",
        "\n",
        "        elif self.all_zero(data):\n",
        "            return Node(decision=0)\n",
        "\n",
        "        elif self.all_one(data):\n",
        "            return Node(decision=1)\n",
        "\n",
        "        elif len(attributes) == 0:\n",
        "            return Node(decision=self.plurality_values(data))\n",
        "\n",
        "        else:\n",
        "            a = self.importance(data, attributes)\n",
        "            tree = Node(attribute=a, attribute_values=np.unique(data[:, a]), child_nodes=[])\n",
        "            attributes.remove(a)\n",
        "            for vk in np.unique(data[:, a]):\n",
        "                new_data = data[data[:, a] == vk, :]\n",
        "                subtree = self.train(new_data, attributes, data)\n",
        "                tree.child_nodes.append(subtree)\n",
        "\n",
        "            return tree\n",
        "\n",
        "    def fit(self, data):\n",
        "        self.root = self.train(data, list(range(data.shape[1] - 1)), np.array([]))\n",
        "\n",
        "    def predict(self, data):\n",
        "        predictions = []\n",
        "        for i in range(data.shape[0]):\n",
        "            current_node = self.root\n",
        "            while True:\n",
        "                if current_node.decision is None:\n",
        "                    current_attribute = current_node.attribute\n",
        "                    current_attribute_value = data[i, current_attribute]\n",
        "                    if current_attribute_value not in current_node.attribute_values:\n",
        "                        predictions.append(random.randint(0, 1))\n",
        "                        break\n",
        "                    idx = list(current_node.attribute_values).index(current_attribute_value)\n",
        "\n",
        "                    current_node = current_node.child_nodes[idx]\n",
        "                else:\n",
        "                    predictions.append(current_node.decision)\n",
        "                    break\n",
        "\n",
        "        return predictions\n",
        "\n",
        "\n"
      ],
      "execution_count": null,
      "outputs": []
    }
  ]
}